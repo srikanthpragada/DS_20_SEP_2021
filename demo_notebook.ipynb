{
 "cells": [
  {
   "cell_type": "markdown",
   "id": "a1c39c1a",
   "metadata": {},
   "source": [
    "<h2>Demo Notebook</h2>"
   ]
  },
  {
   "cell_type": "code",
   "execution_count": 1,
   "id": "faa4e05d",
   "metadata": {
    "collapsed": true,
    "jupyter": {
     "outputs_hidden": true
    },
    "tags": []
   },
   "outputs": [
    {
     "name": "stdout",
     "output_type": "stream",
     "text": [
      "2021-07-02 20:07:26.874010\n"
     ]
    }
   ],
   "source": [
    "import datetime\n",
    "print(datetime.datetime.now())"
   ]
  },
  {
   "cell_type": "code",
   "execution_count": 2,
   "id": "f6136cfb",
   "metadata": {
    "collapsed": true,
    "jupyter": {
     "outputs_hidden": true
    }
   },
   "outputs": [
    {
     "name": "stdout",
     "output_type": "stream",
     "text": [
      "Hello!\n"
     ]
    }
   ],
   "source": [
    "print(\"Hello!\")"
   ]
  },
  {
   "cell_type": "raw",
   "id": "267706db-1af2-469b-8dd2-5505f665876e",
   "metadata": {},
   "source": [
    "This is an example for RAW cell"
   ]
  },
  {
   "cell_type": "markdown",
   "id": "619dca2f-a12c-465a-b8d9-8b1c688692a7",
   "metadata": {},
   "source": [
    "<h4>This is heading 4 </h4>"
   ]
  },
  {
   "cell_type": "markdown",
   "id": "07bfa357-193d-4b4e-b4c0-ced9ab6a870a",
   "metadata": {},
   "source": [
    "##### Markdown Demo - heading 5"
   ]
  },
  {
   "cell_type": "markdown",
   "id": "1a5d5891-cc11-4bc7-b3c4-b11e0dc428c5",
   "metadata": {},
   "source": [
    "__this is blod__\n",
    "<br/>\n",
    "_this is italic_\n",
    "<br/>\n",
    "`This is monospaced`"
   ]
  },
  {
   "cell_type": "markdown",
   "id": "5c7488f2-3dce-46b2-ba94-b1bb653d84ba",
   "metadata": {},
   "source": [
    "<h3>Topics </h3>\n",
    "<ul>\n",
    "    <li>Numpy</li>\n",
    "    <li>Pandas </li>\n",
    "</ul>"
   ]
  },
  {
   "cell_type": "markdown",
   "id": "c98fe578-a5f8-4afc-831c-7d151557a903",
   "metadata": {},
   "source": [
    "- Numpy\n",
    "* Pandas\n",
    "- Matplotlib"
   ]
  },
  {
   "cell_type": "markdown",
   "id": "2e132c99-dd13-4b97-8042-1296f28fe4e6",
   "metadata": {},
   "source": [
    "1. Classification\n",
    "1. Regression\n",
    "1. Clustering"
   ]
  },
  {
   "cell_type": "markdown",
   "id": "6431d33f-3867-403d-ad5b-434b7ea5073e",
   "metadata": {},
   "source": [
    "<div class=\"alert alert-block alert-info\">\n",
    "This is all about Machine Learning.\n",
    "</div>"
   ]
  },
  {
   "cell_type": "markdown",
   "id": "66f14989-1d01-4531-b14d-dcf3efd2da4c",
   "metadata": {},
   "source": [
    "<div class=\"alert alert-block alert-danger\">\n",
    "Machine Learning is no cake walk!\n",
    "</div>"
   ]
  },
  {
   "cell_type": "markdown",
   "id": "9be96a23-c114-442e-9552-56be7e7df510",
   "metadata": {},
   "source": [
    "__[Srikanth Technologies](http://www.srikanthtechnologies.com)__"
   ]
  },
  {
   "cell_type": "code",
   "execution_count": 3,
   "id": "c54b9f79-8ef7-4900-8acd-ff7282880879",
   "metadata": {
    "tags": []
   },
   "outputs": [
    {
     "data": {
      "text/html": [
       "<img src=\"http://www.srikanthtechnologies.com/banner.jpg\"/>"
      ],
      "text/plain": [
       "<IPython.core.display.Image object>"
      ]
     },
     "execution_count": 3,
     "metadata": {},
     "output_type": "execute_result"
    }
   ],
   "source": [
    "from IPython.display import Image\n",
    "Image(url =\"http://www.srikanthtechnologies.com/banner.jpg\")"
   ]
  },
  {
   "cell_type": "markdown",
   "id": "829d69c0-ad6c-4bd5-accd-e6f776a598ac",
   "metadata": {},
   "source": [
    "## Shell Commands Demo"
   ]
  },
  {
   "cell_type": "code",
   "execution_count": 4,
   "id": "12115d3f-f12a-417d-8eda-71ac995fe148",
   "metadata": {
    "tags": []
   },
   "outputs": [
    {
     "name": "stdout",
     "output_type": "stream",
     "text": [
      "C:\\classroom\\sep20\n"
     ]
    }
   ],
   "source": [
    "!cd"
   ]
  },
  {
   "cell_type": "code",
   "execution_count": 5,
   "id": "0834b0eb-5a5e-489a-9943-7f3783c02ad2",
   "metadata": {
    "tags": []
   },
   "outputs": [
    {
     "name": "stdout",
     "output_type": "stream",
     "text": [
      " Volume in drive C is OS\n",
      " Volume Serial Number is D874-1F97\n",
      "\n",
      " Directory of C:\\classroom\\sep20\n",
      "\n",
      "23-09-2021  07:46    <DIR>          .\n",
      "23-09-2021  07:46    <DIR>          ..\n",
      "20-05-2021  16:46             1,972 .gitignore\n",
      "23-09-2021  07:26    <DIR>          .ipynb_checkpoints\n",
      "23-09-2021  07:46            18,976 demo_notebook.ipynb\n",
      "05-05-2021  19:57                13 j.bat\n",
      "22-09-2021  08:31               161 upload.bat\n",
      "               4 File(s)         21,122 bytes\n",
      "               3 Dir(s)  145,205,383,168 bytes free\n"
     ]
    }
   ],
   "source": [
    "!dir"
   ]
  },
  {
   "cell_type": "code",
   "execution_count": 7,
   "id": "79fc3b35-8973-4865-9f50-cdcc92471daa",
   "metadata": {
    "tags": []
   },
   "outputs": [
    {
     "name": "stdout",
     "output_type": "stream",
     "text": [
      "Numpy\n",
      "Pandas\n",
      "Matplotlib\n",
      "Seaborn\n",
      "Sklearn\n"
     ]
    }
   ],
   "source": [
    "!type libraries.txt"
   ]
  },
  {
   "cell_type": "code",
   "execution_count": 8,
   "id": "eb18ee1c-56be-40fb-bf88-8205ee95c8be",
   "metadata": {
    "tags": []
   },
   "outputs": [],
   "source": [
    "libs = !type libraries.txt"
   ]
  },
  {
   "cell_type": "code",
   "execution_count": 9,
   "id": "8383516d-ef07-411a-84bd-b82e68548a10",
   "metadata": {
    "tags": []
   },
   "outputs": [
    {
     "data": {
      "text/plain": [
       "['Numpy', 'Pandas', 'Matplotlib', 'Seaborn', 'Sklearn']"
      ]
     },
     "execution_count": 9,
     "metadata": {},
     "output_type": "execute_result"
    }
   ],
   "source": [
    "libs"
   ]
  },
  {
   "cell_type": "code",
   "execution_count": 10,
   "id": "8b003b58-2a24-42a8-99fd-df2c3fb9b091",
   "metadata": {
    "tags": []
   },
   "outputs": [
    {
     "name": "stdout",
     "output_type": "stream",
     "text": [
      "libraries.txt\n",
      "----------\n",
      "Numpy\n",
      "Pandas\n",
      "Matplotlib\n",
      "Seaborn\n",
      "Sklearn\n",
      "\n",
      "upload.bat\n",
      "----------\n",
      "rem add all files\n",
      "git add .\n",
      "\n",
      "rem commit with the given message \n",
      "git commit -m %1\n",
      "\n",
      "rem push master branch of this remote project\n",
      "git push ds_20_sep_2021 master\n",
      "\n",
      "\n",
      "\n"
     ]
    }
   ],
   "source": [
    "files = ['libraries.txt', 'upload.bat']\n",
    "for f in files:\n",
    "    print(f)\n",
    "    print(\"-\" * 10)\n",
    "    !type {f}\n",
    "    print()"
   ]
  },
  {
   "cell_type": "markdown",
   "id": "63398614-87c7-48ff-b7af-dabf7bfd4372",
   "metadata": {},
   "source": [
    "### Line Magic Functions"
   ]
  },
  {
   "cell_type": "code",
   "execution_count": 11,
   "id": "63c596a9-3ede-4002-a37a-f299916c30e9",
   "metadata": {
    "tags": []
   },
   "outputs": [
    {
     "data": {
      "text/plain": [
       "'C:\\\\classroom\\\\sep20'"
      ]
     },
     "execution_count": 11,
     "metadata": {},
     "output_type": "execute_result"
    }
   ],
   "source": [
    "%pwd"
   ]
  },
  {
   "cell_type": "code",
   "execution_count": 12,
   "id": "648c2a01-4259-455b-9ce2-8aee76bdf68b",
   "metadata": {
    "tags": []
   },
   "outputs": [
    {
     "name": "stdout",
     "output_type": "stream",
     "text": [
      "Image\t f\t files\t libs\t \n"
     ]
    }
   ],
   "source": [
    "%who"
   ]
  },
  {
   "cell_type": "code",
   "execution_count": 14,
   "id": "0a531781-41c5-4074-a66b-7f4ccf9fccd1",
   "metadata": {
    "collapsed": true,
    "jupyter": {
     "outputs_hidden": true
    },
    "tags": []
   },
   "outputs": [
    {
     "data": {
      "text/plain": [
       "{'ALLUSERSPROFILE': 'C:\\\\ProgramData',\n",
       " 'APPDATA': 'C:\\\\Users\\\\CTC\\\\AppData\\\\Roaming',\n",
       " 'ASL.LOG': 'Destination=file',\n",
       " 'COMMONPROGRAMFILES': 'C:\\\\Program Files\\\\Common Files',\n",
       " 'COMMONPROGRAMFILES(X86)': 'C:\\\\Program Files (x86)\\\\Common Files',\n",
       " 'COMMONPROGRAMW6432': 'C:\\\\Program Files\\\\Common Files',\n",
       " 'COMPUTERNAME': 'SRIKANTH-LAPTOP',\n",
       " 'COMSPEC': 'C:\\\\WINDOWS\\\\system32\\\\cmd.exe',\n",
       " 'CONDA_DEFAULT_ENV': 'base',\n",
       " 'CONDA_EXE': 'C:\\\\Anaconda3\\\\Scripts\\\\conda.exe',\n",
       " 'CONDA_PREFIX': 'C:\\\\Anaconda3',\n",
       " 'CONDA_PROMPT_MODIFIER': '(base) ',\n",
       " 'CONDA_PYTHON_EXE': 'C:\\\\Anaconda3\\\\python.exe',\n",
       " 'CONDA_SHLVL': '1',\n",
       " 'DRIVERDATA': 'C:\\\\Windows\\\\System32\\\\Drivers\\\\DriverData',\n",
       " 'FSHARPINSTALLDIR': 'C:\\\\Program Files (x86)\\\\Microsoft SDKs\\\\F#\\\\10.1\\\\Framework\\\\v4.0\\\\',\n",
       " 'GOOGLE_API_KEY': '<hidden>',\n",
       " 'GOOGLE_DEFAULT_CLIENT_ID': 'no',\n",
       " 'GOOGLE_DEFAULT_CLIENT_SECRET': '<hidden>',\n",
       " 'HOMEDRIVE': 'C:',\n",
       " 'HOMEPATH': '\\\\Users\\\\CTC',\n",
       " 'JAVA_HOME': 'c:\\\\jdk16',\n",
       " 'LOCALAPPDATA': 'C:\\\\Users\\\\CTC\\\\AppData\\\\Local',\n",
       " 'LOGONSERVER': '\\\\\\\\SRIKANTH-LAPTOP',\n",
       " 'MYSQLCONNECTOR_ASSEMBLIESPATH': 'C:\\\\Program Files (x86)\\\\MySQL\\\\Connector NET 8.0\\\\Assemblies\\\\v4.5.2',\n",
       " 'NLTK_DATA': 'c:\\\\dev\\\\python\\\\nltk_book',\n",
       " 'NUMBER_OF_PROCESSORS': '4',\n",
       " 'ONEDRIVE': 'C:\\\\Users\\\\CTC\\\\OneDrive',\n",
       " 'ONEDRIVECONSUMER': 'C:\\\\Users\\\\CTC\\\\OneDrive',\n",
       " 'OS': 'Windows_NT',\n",
       " 'PATH': 'C:\\\\Anaconda3;C:\\\\Anaconda3\\\\Library\\\\mingw-w64\\\\bin;C:\\\\Anaconda3\\\\Library\\\\usr\\\\bin;C:\\\\Anaconda3\\\\Library\\\\bin;C:\\\\Anaconda3\\\\Scripts;C:\\\\Anaconda3\\\\bin;C:\\\\Anaconda3\\\\condabin;C:\\\\python\\\\Scripts;C:\\\\python;c:\\\\jdk16\\\\bin;C:\\\\Program Files\\\\Common Files\\\\Oracle\\\\Java\\\\javapath;C:\\\\oracle18c\\\\dbhomeXE\\\\bin;C:\\\\oraclexe\\\\app\\\\oracle\\\\product\\\\11.2.0\\\\server\\\\bin;C:\\\\oracle18\\\\dbhomeXE\\\\bin;C:\\\\Program Files (x86)\\\\Common Files\\\\Oracle\\\\Java\\\\javapath;C:\\\\ProgramData\\\\Oracle\\\\Java\\\\javapath;C:\\\\Program Files (x86)\\\\Intel\\\\iCLS Client;C:\\\\Program Files\\\\Intel\\\\iCLS Client;C:\\\\WINDOWS\\\\system32;C:\\\\WINDOWS;C:\\\\WINDOWS\\\\System32\\\\Wbem;C:\\\\WINDOWS\\\\System32\\\\WindowsPowerShell\\\\v1.0;C:\\\\Users\\\\CTC\\\\.dnx\\\\bin;C:\\\\Program Files\\\\Microsoft DNX\\\\Dnvm;C:\\\\Program Files\\\\Microsoft SQL Server\\\\130\\\\Tools\\\\Binn;C:\\\\Program Files\\\\dotnet;C:\\\\Program Files (x86)\\\\Intel\\\\Intel(R) Management Engine Components\\\\DAL;C:\\\\Program Files\\\\Intel\\\\Intel(R) Management Engine Components\\\\DAL;C:\\\\Program Files (x86)\\\\Intel\\\\Intel(R) Management Engine Components\\\\IPT;C:\\\\Program Files\\\\Intel\\\\Intel(R) Management Engine Components\\\\IPT;C:\\\\Program Files (x86)\\\\QuickTime\\\\QTSystem;C:\\\\Program Files (x86)\\\\Microsoft SQL Server\\\\Client SDK\\\\ODBC\\\\130\\\\Tools\\\\Binn;C:\\\\Program Files (x86)\\\\Microsoft SQL Server\\\\140\\\\Tools\\\\Binn;C:\\\\Program Files (x86)\\\\Microsoft SQL Server\\\\140\\\\DTS\\\\Binn;C:\\\\Program Files (x86)\\\\Microsoft SQL Server\\\\140\\\\Tools\\\\Binn\\\\ManagementStudio;C:\\\\WINDOWS\\\\System32\\\\OpenSSH;C:\\\\Program Files\\\\Microsoft VS Code\\\\bin;C:\\\\Program Files\\\\Microsoft SQL Server\\\\Client SDK\\\\ODBC\\\\170\\\\Tools\\\\Binn;C:\\\\Program Files\\\\Intel\\\\WiFi\\\\bin;C:\\\\Program Files\\\\Common Files\\\\Intel\\\\WirelessCommon;C:\\\\Program Files\\\\nodejs;C:\\\\aws\\\\AWSCLIV2;C:\\\\Program Files\\\\Git\\\\cmd;C:\\\\Users\\\\CTC\\\\AppData\\\\Local\\\\Programs\\\\Python\\\\Python39\\\\Scripts;C:\\\\Users\\\\CTC\\\\AppData\\\\Local\\\\Programs\\\\Python\\\\Python39;C:\\\\Program Files\\\\MySQL\\\\MySQL Shell 8.0\\\\bin;C:\\\\Users\\\\CTC\\\\AppData\\\\Local\\\\Microsoft\\\\WindowsApps;C:\\\\Users\\\\CTC\\\\AppData\\\\Local\\\\Programs\\\\Microsoft VS Code\\\\bin;C:\\\\heroku\\\\cli\\\\bin;C:\\\\Users\\\\CTC\\\\AppData\\\\Roaming\\\\npm;C:\\\\Users\\\\CTC\\\\.dotnet\\\\tools;C:\\\\Users\\\\CTC\\\\AppData\\\\Local\\\\Microsoft\\\\WindowsApps;C:\\\\Users\\\\CTC\\\\.dotnet\\\\tools',\n",
       " 'PATHEXT': '.COM;.EXE;.BAT;.CMD;.VBS;.VBE;.JS;.JSE;.WSF;.WSH;.MSC;.PY;.PYW',\n",
       " 'PROCESSOR_ARCHITECTURE': 'AMD64',\n",
       " 'PROCESSOR_IDENTIFIER': 'Intel64 Family 6 Model 142 Stepping 9, GenuineIntel',\n",
       " 'PROCESSOR_LEVEL': '6',\n",
       " 'PROCESSOR_REVISION': '8e09',\n",
       " 'PROGRAMDATA': 'C:\\\\ProgramData',\n",
       " 'PROGRAMFILES': 'C:\\\\Program Files',\n",
       " 'PROGRAMFILES(X86)': 'C:\\\\Program Files (x86)',\n",
       " 'PROGRAMW6432': 'C:\\\\Program Files',\n",
       " 'PROMPT': '(base) $P$G',\n",
       " 'PSMODULEPATH': 'C:\\\\Program Files\\\\WindowsPowerShell\\\\Modules;C:\\\\WINDOWS\\\\system32\\\\WindowsPowerShell\\\\v1.0\\\\Modules',\n",
       " 'PUBLIC': 'C:\\\\Users\\\\Public',\n",
       " 'SYSTEMDRIVE': 'C:',\n",
       " 'SYSTEMROOT': 'C:\\\\WINDOWS',\n",
       " 'TEMP': 'C:\\\\Users\\\\CTC\\\\AppData\\\\Local\\\\Temp',\n",
       " 'TMP': 'C:\\\\Users\\\\CTC\\\\AppData\\\\Local\\\\Temp',\n",
       " 'USERDOMAIN': 'SRIKANTH-LAPTOP',\n",
       " 'USERDOMAIN_ROAMINGPROFILE': 'SRIKANTH-LAPTOP',\n",
       " 'USERNAME': 'Srikanth',\n",
       " 'USERPROFILE': 'C:\\\\Users\\\\CTC',\n",
       " 'VS140COMNTOOLS': 'C:\\\\Program Files (x86)\\\\Microsoft Visual Studio 14.0\\\\Common7\\\\Tools\\\\',\n",
       " 'VS150COMCOMNTOOLS': 'C:\\\\Program Files (x86)\\\\Microsoft Visual Studio\\\\2017\\\\Community\\\\Common7\\\\Tools\\\\',\n",
       " 'VS160COMCOMNTOOLS': 'C:\\\\Program Files (x86)\\\\Microsoft Visual Studio\\\\2019\\\\Community\\\\Common7\\\\Tools\\\\',\n",
       " 'WINDIR': 'C:\\\\WINDOWS',\n",
       " 'JPY_INTERRUPT_EVENT': '520',\n",
       " 'IPY_INTERRUPT_EVENT': '520',\n",
       " 'JPY_PARENT_PID': '2752',\n",
       " 'TERM': 'xterm-color',\n",
       " 'CLICOLOR': '1',\n",
       " 'PAGER': 'cat',\n",
       " 'GIT_PAGER': 'cat',\n",
       " 'MPLBACKEND': 'module://ipykernel.pylab.backend_inline'}"
      ]
     },
     "execution_count": 14,
     "metadata": {},
     "output_type": "execute_result"
    }
   ],
   "source": [
    "%env"
   ]
  },
  {
   "cell_type": "code",
   "execution_count": 16,
   "id": "5086d05a-4874-4857-8a40-28f75b14b556",
   "metadata": {},
   "outputs": [
    {
     "data": {
      "text/plain": [
       "'Srikanth'"
      ]
     },
     "execution_count": 16,
     "metadata": {},
     "output_type": "execute_result"
    }
   ],
   "source": [
    "variables = %env\n",
    "variables['USERNAME']"
   ]
  },
  {
   "cell_type": "code",
   "execution_count": 18,
   "id": "eda5a320-a6f4-4d32-b8e3-211cebdaf945",
   "metadata": {
    "collapsed": true,
    "jupyter": {
     "outputs_hidden": true
    },
    "tags": []
   },
   "outputs": [
    {
     "data": {
      "text/plain": [
       "[' Volume in drive C is OS',\n",
       " ' Volume Serial Number is D874-1F97',\n",
       " '',\n",
       " ' Directory of C:\\\\classroom\\\\sep20',\n",
       " '',\n",
       " '',\n",
       " ' Directory of C:\\\\classroom\\\\sep20',\n",
       " '',\n",
       " '',\n",
       " ' Directory of C:\\\\classroom\\\\sep20',\n",
       " '',\n",
       " '',\n",
       " ' Directory of C:\\\\classroom\\\\sep20',\n",
       " '',\n",
       " 'File Not Found']"
      ]
     },
     "execution_count": 18,
     "metadata": {},
     "output_type": "execute_result"
    }
   ],
   "source": [
    "%system dir    # Execute OS command  "
   ]
  },
  {
   "cell_type": "code",
   "execution_count": 19,
   "id": "ad2b6d37-9a43-44f2-ad9f-d9620c22a6f9",
   "metadata": {
    "tags": []
   },
   "outputs": [
    {
     "data": {
      "application/json": {
       "cell": {
        "!": "OSMagics",
        "HTML": "Other",
        "SVG": "Other",
        "bash": "Other",
        "capture": "ExecutionMagics",
        "cmd": "Other",
        "debug": "ExecutionMagics",
        "file": "Other",
        "html": "DisplayMagics",
        "javascript": "DisplayMagics",
        "js": "DisplayMagics",
        "latex": "DisplayMagics",
        "markdown": "DisplayMagics",
        "perl": "Other",
        "prun": "ExecutionMagics",
        "pypy": "Other",
        "python": "Other",
        "python2": "Other",
        "python3": "Other",
        "ruby": "Other",
        "script": "ScriptMagics",
        "sh": "Other",
        "svg": "DisplayMagics",
        "sx": "OSMagics",
        "system": "OSMagics",
        "time": "ExecutionMagics",
        "timeit": "ExecutionMagics",
        "writefile": "OSMagics"
       },
       "line": {
        "alias": "OSMagics",
        "alias_magic": "BasicMagics",
        "autoawait": "AsyncMagics",
        "autocall": "AutoMagics",
        "automagic": "AutoMagics",
        "autosave": "KernelMagics",
        "bookmark": "OSMagics",
        "cd": "OSMagics",
        "clear": "KernelMagics",
        "cls": "KernelMagics",
        "colors": "BasicMagics",
        "conda": "PackagingMagics",
        "config": "ConfigMagics",
        "connect_info": "KernelMagics",
        "copy": "Other",
        "ddir": "Other",
        "debug": "ExecutionMagics",
        "dhist": "OSMagics",
        "dirs": "OSMagics",
        "doctest_mode": "BasicMagics",
        "echo": "Other",
        "ed": "Other",
        "edit": "KernelMagics",
        "env": "OSMagics",
        "gui": "BasicMagics",
        "hist": "Other",
        "history": "HistoryMagics",
        "killbgscripts": "ScriptMagics",
        "ldir": "Other",
        "less": "KernelMagics",
        "load": "CodeMagics",
        "load_ext": "ExtensionMagics",
        "loadpy": "CodeMagics",
        "logoff": "LoggingMagics",
        "logon": "LoggingMagics",
        "logstart": "LoggingMagics",
        "logstate": "LoggingMagics",
        "logstop": "LoggingMagics",
        "ls": "Other",
        "lsmagic": "BasicMagics",
        "macro": "ExecutionMagics",
        "magic": "BasicMagics",
        "matplotlib": "PylabMagics",
        "mkdir": "Other",
        "more": "KernelMagics",
        "notebook": "BasicMagics",
        "page": "BasicMagics",
        "pastebin": "CodeMagics",
        "pdb": "ExecutionMagics",
        "pdef": "NamespaceMagics",
        "pdoc": "NamespaceMagics",
        "pfile": "NamespaceMagics",
        "pinfo": "NamespaceMagics",
        "pinfo2": "NamespaceMagics",
        "pip": "PackagingMagics",
        "popd": "OSMagics",
        "pprint": "BasicMagics",
        "precision": "BasicMagics",
        "prun": "ExecutionMagics",
        "psearch": "NamespaceMagics",
        "psource": "NamespaceMagics",
        "pushd": "OSMagics",
        "pwd": "OSMagics",
        "pycat": "OSMagics",
        "pylab": "PylabMagics",
        "qtconsole": "KernelMagics",
        "quickref": "BasicMagics",
        "recall": "HistoryMagics",
        "rehashx": "OSMagics",
        "reload_ext": "ExtensionMagics",
        "ren": "Other",
        "rep": "Other",
        "rerun": "HistoryMagics",
        "reset": "NamespaceMagics",
        "reset_selective": "NamespaceMagics",
        "rmdir": "Other",
        "run": "ExecutionMagics",
        "save": "CodeMagics",
        "sc": "OSMagics",
        "set_env": "OSMagics",
        "store": "StoreMagics",
        "sx": "OSMagics",
        "system": "OSMagics",
        "tb": "ExecutionMagics",
        "time": "ExecutionMagics",
        "timeit": "ExecutionMagics",
        "unalias": "OSMagics",
        "unload_ext": "ExtensionMagics",
        "who": "NamespaceMagics",
        "who_ls": "NamespaceMagics",
        "whos": "NamespaceMagics",
        "xdel": "NamespaceMagics",
        "xmode": "BasicMagics"
       }
      },
      "text/plain": [
       "Available line magics:\n",
       "%alias  %alias_magic  %autoawait  %autocall  %automagic  %autosave  %bookmark  %cd  %clear  %cls  %colors  %conda  %config  %connect_info  %copy  %ddir  %debug  %dhist  %dirs  %doctest_mode  %echo  %ed  %edit  %env  %gui  %hist  %history  %killbgscripts  %ldir  %less  %load  %load_ext  %loadpy  %logoff  %logon  %logstart  %logstate  %logstop  %ls  %lsmagic  %macro  %magic  %matplotlib  %mkdir  %more  %notebook  %page  %pastebin  %pdb  %pdef  %pdoc  %pfile  %pinfo  %pinfo2  %pip  %popd  %pprint  %precision  %prun  %psearch  %psource  %pushd  %pwd  %pycat  %pylab  %qtconsole  %quickref  %recall  %rehashx  %reload_ext  %ren  %rep  %rerun  %reset  %reset_selective  %rmdir  %run  %save  %sc  %set_env  %store  %sx  %system  %tb  %time  %timeit  %unalias  %unload_ext  %who  %who_ls  %whos  %xdel  %xmode\n",
       "\n",
       "Available cell magics:\n",
       "%%!  %%HTML  %%SVG  %%bash  %%capture  %%cmd  %%debug  %%file  %%html  %%javascript  %%js  %%latex  %%markdown  %%perl  %%prun  %%pypy  %%python  %%python2  %%python3  %%ruby  %%script  %%sh  %%svg  %%sx  %%system  %%time  %%timeit  %%writefile\n",
       "\n",
       "Automagic is ON, % prefix IS NOT needed for line magics."
      ]
     },
     "execution_count": 19,
     "metadata": {},
     "output_type": "execute_result"
    }
   ],
   "source": [
    "%lsmagic"
   ]
  },
  {
   "cell_type": "code",
   "execution_count": 20,
   "id": "8ad0de33-fac7-4046-b068-c4042ffd12b3",
   "metadata": {
    "collapsed": true,
    "jupyter": {
     "outputs_hidden": true
    },
    "tags": []
   },
   "outputs": [
    {
     "name": "stdout",
     "output_type": "stream",
     "text": [
      "from IPython.display import Image\n",
      "Image(url =\"http://www.srikanthtechnologies.com/logo.jpg\")\n",
      "from IPython.display import Image\n",
      "Image(url =\"http://www.srikanthtechnologies.com/logo.jpg\")\n",
      "from IPython.display import Image\n",
      "Image(url =\"http://www.srikanthtechnologies.com/banner.jpg\")\n",
      "!cd\n",
      "!dir\n",
      "!type libraries.txt\n",
      "!type libraries.txt\n",
      "libs = !type libraries.txt\n",
      "libs\n",
      "files = ['libraries.txt', 'upload.bat']\n",
      "for f in files:\n",
      "    print(f)\n",
      "    print(\"-\" * 10)\n",
      "    !type {f}\n",
      "    print()\n",
      "%pwd\n",
      "%who\n",
      "#%env\n",
      "%env\n",
      "variables = %env\n",
      "variables = %env\n",
      "variables['USERNAME']\n",
      "%system dir\n",
      "%system dir    # Execute OS command\n",
      "%lsmagic\n",
      "%history\n"
     ]
    }
   ],
   "source": [
    "%history"
   ]
  },
  {
   "cell_type": "markdown",
   "id": "8e8d75f5-5c3a-4214-9472-cebc996bffd5",
   "metadata": {},
   "source": [
    "### Cell Magic Function"
   ]
  },
  {
   "cell_type": "code",
   "execution_count": 21,
   "id": "5bae892a-bca1-461c-bea4-182e996eddbe",
   "metadata": {
    "tags": []
   },
   "outputs": [
    {
     "name": "stdout",
     "output_type": "stream",
     "text": [
      "Writing names.txt\n"
     ]
    }
   ],
   "source": [
    "%%writefile names.txt\n",
    "Anders\n",
    "James\n",
    "Larry\n",
    "Rossum"
   ]
  },
  {
   "cell_type": "code",
   "execution_count": 22,
   "id": "d2b318b7-192c-42ef-8abb-8dfc1dfbf362",
   "metadata": {
    "tags": []
   },
   "outputs": [],
   "source": [
    "%%capture numbers\n",
    "for i in range(10,20):\n",
    "    print(i)"
   ]
  },
  {
   "cell_type": "code",
   "execution_count": 23,
   "id": "75053912-0fdc-4313-998b-0707bc33304b",
   "metadata": {
    "tags": []
   },
   "outputs": [
    {
     "data": {
      "text/plain": [
       "IPython.utils.capture.CapturedIO"
      ]
     },
     "execution_count": 23,
     "metadata": {},
     "output_type": "execute_result"
    }
   ],
   "source": [
    "type(numbers)"
   ]
  },
  {
   "cell_type": "code",
   "execution_count": 24,
   "id": "a49b0b8c-a648-4af4-97a2-a9032bf60dcf",
   "metadata": {
    "tags": []
   },
   "outputs": [
    {
     "name": "stdout",
     "output_type": "stream",
     "text": [
      "10\n",
      "11\n",
      "12\n",
      "13\n",
      "14\n",
      "15\n",
      "16\n",
      "17\n",
      "18\n",
      "19\n",
      "\n"
     ]
    }
   ],
   "source": [
    "print(numbers.stdout)"
   ]
  },
  {
   "cell_type": "markdown",
   "id": "841cfac7-e667-4528-bd00-656ef28b157d",
   "metadata": {},
   "source": [
    "##### List Comprehension vs. List with append()"
   ]
  },
  {
   "cell_type": "code",
   "execution_count": 29,
   "id": "3d1d6128-a260-4a29-a99d-1e130a2c0dd4",
   "metadata": {
    "tags": []
   },
   "outputs": [
    {
     "name": "stdout",
     "output_type": "stream",
     "text": [
      "3.58 ms ± 1.32 ms per loop (mean ± std. dev. of 10 runs, 10 loops each)\n"
     ]
    }
   ],
   "source": [
    "%%timeit -n 10 -r 10\n",
    "lst = [n*n for n in range(1,10000)]"
   ]
  },
  {
   "cell_type": "code",
   "execution_count": 30,
   "id": "d73ff565-8881-4f12-a89c-37847577206c",
   "metadata": {
    "tags": []
   },
   "outputs": [
    {
     "name": "stdout",
     "output_type": "stream",
     "text": [
      "5.15 ms ± 1.97 ms per loop (mean ± std. dev. of 10 runs, 10 loops each)\n"
     ]
    }
   ],
   "source": [
    "%%timeit -n 10 -r 10\n",
    "lst = []\n",
    "for i in range(1,10000):\n",
    " lst.append(i*i)"
   ]
  },
  {
   "cell_type": "code",
   "execution_count": null,
   "id": "ece514f1-3cc9-4d62-8c7b-00b057fdb22b",
   "metadata": {},
   "outputs": [],
   "source": []
  }
 ],
 "metadata": {
  "kernelspec": {
   "display_name": "Python 3",
   "language": "python",
   "name": "python3"
  },
  "language_info": {
   "codemirror_mode": {
    "name": "ipython",
    "version": 3
   },
   "file_extension": ".py",
   "mimetype": "text/x-python",
   "name": "python",
   "nbconvert_exporter": "python",
   "pygments_lexer": "ipython3",
   "version": "3.8.8"
  }
 },
 "nbformat": 4,
 "nbformat_minor": 5
}
